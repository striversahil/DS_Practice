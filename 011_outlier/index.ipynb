{
 "cells": [
  {
   "cell_type": "markdown",
   "metadata": {},
   "source": [
    "## **Outlier Silent Killer !**"
   ]
  },
  {
   "cell_type": "markdown",
   "metadata": {},
   "source": [
    "We will First Going to Identify the Outlier in Data"
   ]
  },
  {
   "cell_type": "markdown",
   "metadata": {},
   "source": [
    "### 1. Hypothesis Testing"
   ]
  },
  {
   "cell_type": "code",
   "execution_count": 3,
   "metadata": {},
   "outputs": [
    {
     "name": "stdout",
     "output_type": "stream",
     "text": [
      "Gribbs Calculated for [  12   13   14 2055   21   23] is 2.2360353015346504\n",
      "Gribbs Critical for [  12   13   14 2055   21   23] is 1.8871451177787137\n",
      "Outlier for [  12   13   14 2055   21   23]\n",
      "None\n",
      "Gribbs Calculated for [  12   13   14   19   21 2332   45] is 2.1068283864205233\n",
      "Gribbs Critical for [  12   13   14   19   21 2332   45] is 2.019968507680656\n",
      "Outlier for [  12   13   14   19   21 2332   45]\n",
      "None\n"
     ]
    }
   ],
   "source": [
    "import numpy as np\n",
    "import scipy.stats as stats\n",
    "\n",
    "x = np.array([12,13,14,2055,21,23])\n",
    "y = np.array([12,13,14,19,21,2332,45])\n",
    "\n",
    "def grubb_test(a):\n",
    "    n=len(a)\n",
    "    mean = np.mean(a)\n",
    "    std_div = np.std(a)\n",
    "    numerator = max(abs(x - mean))\n",
    "\n",
    "    g_calculated = numerator/std_div\n",
    "    print(f'Gribbs Calculated for {a} is {g_calculated}')\n",
    "    t_value = stats.t.ppf(1-0.05 / ( 2*n) , n-2)\n",
    "    g_critical = ((n - 1) * np.sqrt(np.square(t_value))) / (np.sqrt(n) * np.sqrt(n - 2 + np.square(t_value)))\n",
    "    print(f'Gribbs Critical for {a} is {g_critical}')\n",
    "    if g_critical > g_calculated:\n",
    "        print(f'No Outlier for {a}')\n",
    "    else:\n",
    "        print(f'Outlier for {a}')\n",
    "    \n",
    "print(grubb_test(x))\n",
    "print(grubb_test(y))\n"
   ]
  },
  {
   "cell_type": "markdown",
   "metadata": {},
   "source": [
    "### 2. Z-Score\n",
    "\n",
    "But we Will be Careful as mean and SD is Outlier Sensitive"
   ]
  },
  {
   "cell_type": "code",
   "execution_count": 17,
   "metadata": {},
   "outputs": [
    {
     "name": "stdout",
     "output_type": "stream",
     "text": [
      "[50271, 159000, 215245, 164660, 53107, 70761, 53227, 46589, 115149, 53504, 45600, 63887, 57200]\n"
     ]
    }
   ],
   "source": [
    "import numpy as np\n",
    "import pandas as pd\n",
    "\n",
    "train = pd.read_csv('./Data_House_pred/train.csv')\n",
    "Outlier = []\n",
    "def z_test(array):\n",
    "    mean = np.mean(array)\n",
    "    std = np.std(array)\n",
    "    for individual in array:\n",
    "        z_score = (individual - mean)/std\n",
    "        if z_score > 3:\n",
    "            Outlier.append(individual)\n",
    "    return Outlier if Outlier else \"No Outlier\"\n",
    "\n",
    "\n",
    "train_set = z_test(train['LotArea'])\n",
    "print(train_set)\n"
   ]
  },
  {
   "cell_type": "code",
   "execution_count": null,
   "metadata": {},
   "outputs": [],
   "source": []
  }
 ],
 "metadata": {
  "kernelspec": {
   "display_name": "Python 3",
   "language": "python",
   "name": "python3"
  },
  "language_info": {
   "codemirror_mode": {
    "name": "ipython",
    "version": 3
   },
   "file_extension": ".py",
   "mimetype": "text/x-python",
   "name": "python",
   "nbconvert_exporter": "python",
   "pygments_lexer": "ipython3",
   "version": "3.10.12"
  }
 },
 "nbformat": 4,
 "nbformat_minor": 2
}
