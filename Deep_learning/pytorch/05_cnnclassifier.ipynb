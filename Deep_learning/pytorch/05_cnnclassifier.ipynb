{
 "cells": [
  {
   "cell_type": "markdown",
   "id": "d54632e4",
   "metadata": {},
   "source": [
    "### Convolution Neural Networks (CNNs)"
   ]
  },
  {
   "cell_type": "code",
   "execution_count": 1,
   "id": "3bd45da4",
   "metadata": {},
   "outputs": [],
   "source": [
    "import torch\n",
    "import torch.nn as nn\n",
    "import torchvision\n",
    "import torchvision.transforms as transforms\n",
    "import matplotlib.pyplot as plt\n",
    "import numpy as np\n",
    "from tqdm.notebook import tqdm , trange\n",
    "import torchvision.datasets as datasets\n"
   ]
  },
  {
   "cell_type": "code",
   "execution_count": 2,
   "id": "4f72d863",
   "metadata": {},
   "outputs": [
    {
     "name": "stdout",
     "output_type": "stream",
     "text": [
      "cpu\n"
     ]
    }
   ],
   "source": [
    "device = torch.device(\"cuda\" if torch.cuda.is_available() else \"cpu\")\n",
    "print(device)"
   ]
  },
  {
   "cell_type": "code",
   "execution_count": 3,
   "id": "e9297648",
   "metadata": {},
   "outputs": [],
   "source": [
    "transform = transforms.Compose([\n",
    "    transforms.Resize(32),\n",
    "    transforms.ToTensor(),\n",
    "    transforms.Normalize(0.13 , 0.31)\n",
    "])"
   ]
  },
  {
   "cell_type": "code",
   "execution_count": 4,
   "id": "c828569e",
   "metadata": {},
   "outputs": [],
   "source": [
    "# Loading the dataset\n",
    "train_dataset = datasets.MNIST(root='data/', train=True, transform=transform, download=True)\n",
    "test_dataset = datasets.MNIST(root='data/', train=False, transform=transform, download=True)\n",
    "\n",
    "validation_split = 0.2\n",
    "shuffle_dataset = True\n",
    "\n",
    "validation_size = int(validation_split * len(train_dataset))\n",
    "train_size = len(train_dataset) - validation_size\n",
    "\n",
    "# Creating dataset for training and validation\n",
    "train_dataset, val_dataset = torch.utils.data.random_split(train_dataset, [train_size, validation_size] , generator=torch.Generator().manual_seed(42))\n",
    "\n",
    "train_loader = torch.utils.data.DataLoader(dataset=train_dataset, batch_size=64, shuffle=True)\n",
    "val_loader = torch.utils.data.DataLoader(dataset=val_dataset, batch_size=64, shuffle=False)\n",
    "test_loader = torch.utils.data.DataLoader(dataset=test_dataset, batch_size=64, shuffle=False)\n",
    "\n"
   ]
  },
  {
   "cell_type": "code",
   "execution_count": 5,
   "id": "c2177964",
   "metadata": {},
   "outputs": [
    {
     "name": "stdout",
     "output_type": "stream",
     "text": [
      "Length of training dataset : 48000\n",
      "Length of validation dataset : 12000\n",
      "Length of testing dataset : 10000\n"
     ]
    }
   ],
   "source": [
    "print(f\"Length of training dataset : {len(train_dataset)}\")\n",
    "print(f\"Length of validation dataset : {len(val_dataset)}\")\n",
    "print(f\"Length of testing dataset : {len(test_dataset)}\")"
   ]
  },
  {
   "cell_type": "code",
   "execution_count": 6,
   "id": "c1b6d32f",
   "metadata": {},
   "outputs": [],
   "source": [
    "class CNNClassifier(nn.Module):\n",
    "    def __init__(self ,  batch_size , learning_rate , input_channels=1 , num_classes=10):\n",
    "        super().__init__()\n",
    "        self.device = torch.device(\"cuda\" if torch.cuda.is_available() else \"cpu\")\n",
    "        self.optimizer = None\n",
    "        self.batch_size = batch_size\n",
    "        self.learning_rate = learning_rate\n",
    "\n",
    "        self.conv1 = nn.Conv2d(in_channels=input_channels , out_channels=6 , kernel_size=5)\n",
    "        self.conv2 = nn.Conv2d(in_channels=6 , out_channels=16 , kernel_size=5)\n",
    "\n",
    "        self.pool = nn.MaxPool2d(kernel_size=2)\n",
    "\n",
    "        # Input of fc1 is 16*5*5 because after two conv layers and two pooling layers the image size reduces from 32x32 to 5x5 ; calculation: (32-4)/2=14 , (14-4)/2=5\n",
    "        self.fc1 = nn.Linear(in_features=16*5*5 , out_features=120)\n",
    "        self.fc2 = nn.Linear(in_features=120 , out_features=84)\n",
    "        self.fc3 = nn.Linear(in_features=84 , out_features=num_classes)\n",
    "        self.relu = nn.ReLU()\n",
    "\n",
    "        self.train_losses = []\n",
    "        self.val_losses = []\n",
    "        self.train_accuracies = []\n",
    "        self.val_accuracies = []\n",
    "\n",
    "\n",
    "    def set_optimizer(self , optimizer_name = \"Adam\"):\n",
    "        if optimizer_name == \"Adam\":\n",
    "            self.optimizer = torch.optim.Adam(self.parameters() , lr=self.learning_rate)\n",
    "        elif optimizer_name == \"SGD\":\n",
    "            self.optimizer = torch.optim.SGD(self.parameters() , lr=self.learning_rate , momentum=0.9)\n",
    "        else:\n",
    "            raise ValueError(\"Optimizer not supported. Choose either 'Adam' or 'SGD'.\")\n",
    "        \n",
    "        \n",
    "\n",
    "    def train_model(self , num_epochs , train_loader , val_loader , criterion):\n",
    "        self.to(self.device)\n",
    "        for epoch in trange(num_epochs , desc=\"Epochs\"):\n",
    "            self.train()\n",
    "            running_loss = 0.0\n",
    "            correct = 0\n",
    "            total = 0\n",
    "            for images , labels in tqdm(train_loader , desc=\"Training\" , leave=False):\n",
    "                images , labels = images.to(self.device) , labels.to(self.device)\n",
    "\n",
    "                self.optimizer.zero_grad()\n",
    "                outputs = self.forward(images)\n",
    "                loss = criterion(outputs , labels)\n",
    "                loss.backward()\n",
    "                self.optimizer.step()\n",
    "\n",
    "                running_loss += loss.item()\n",
    "                _, predicted = torch.max(outputs.data , 1)\n",
    "                total += labels.size(0)\n",
    "                correct += (predicted == labels).sum().item()\n",
    "            \n",
    "            epoch_loss = running_loss / len(train_loader)\n",
    "            epoch_accuracy = 100 * correct / total\n",
    "            self.train_losses.append(epoch_loss)\n",
    "            self.train_accuracies.append(epoch_accuracy)\n",
    "\n",
    "            val_loss , val_accuracy = self.evaluate_model(val_loader , criterion)\n",
    "            self.val_losses.append(val_loss)\n",
    "            self.val_accuracies.append(val_accuracy)\n",
    "\n",
    "            print(f\"Epoch [{epoch+1}/{num_epochs}] - Train Loss: {epoch_loss:.4f} , Train Acc: {epoch_accuracy:.2f}% | Val Loss: {val_loss:.4f} , Val Acc: {val_accuracy:.2f}%\")\n",
    "        \n",
    "        print(\"Training complete.\")\n",
    "\n",
    "    def evaluate_model(self , data_loader , criterion):\n",
    "        self.eval()\n",
    "        running_loss = 0.0\n",
    "        correct = 0\n",
    "        total = 0\n",
    "        with torch.no_grad():\n",
    "            for images , labels in tqdm(data_loader , desc=\"Evaluating\" , leave=False):\n",
    "                images , labels = images.to(self.device) , labels.to(self.device)\n",
    "                outputs = self.forward(images)\n",
    "                loss = criterion(outputs , labels)\n",
    "\n",
    "                running_loss += loss.item()\n",
    "                _, predicted = torch.max(outputs.data , 1)\n",
    "                total += labels.size(0)\n",
    "                correct += (predicted == labels).sum().item()\n",
    "        \n",
    "        epoch_loss = running_loss / len(data_loader)\n",
    "        epoch_accuracy = 100 * correct / total\n",
    "        return epoch_loss , epoch_accuracy\n",
    "\n",
    "    def forward(self , x):\n",
    "        x = self.pool(self.relu(self.conv1(x)))\n",
    "        x = self.pool(self.relu(self.conv2(x)))\n",
    "        x = x.view(x.shape[0] , -1)  # Flatten the tensor\n",
    "        x = self.relu(self.fc1(x))\n",
    "        x = self.relu(self.fc2(x))\n",
    "        x = self.fc3(x)\n",
    "        return x"
   ]
  },
  {
   "cell_type": "code",
   "execution_count": null,
   "id": "fdd851e8",
   "metadata": {},
   "outputs": [],
   "source": []
  }
 ],
 "metadata": {
  "kernelspec": {
   "display_name": "venv",
   "language": "python",
   "name": "python3"
  },
  "language_info": {
   "codemirror_mode": {
    "name": "ipython",
    "version": 3
   },
   "file_extension": ".py",
   "mimetype": "text/x-python",
   "name": "python",
   "nbconvert_exporter": "python",
   "pygments_lexer": "ipython3",
   "version": "3.10.12"
  }
 },
 "nbformat": 4,
 "nbformat_minor": 5
}
