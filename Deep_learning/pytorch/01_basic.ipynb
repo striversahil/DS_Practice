{
 "cells": [
  {
   "cell_type": "markdown",
   "id": "7b5e55af",
   "metadata": {},
   "source": [
    "### Basics of Pytorch"
   ]
  },
  {
   "cell_type": "markdown",
   "id": "20f95edc",
   "metadata": {},
   "source": [
    "- All Imports are in this cell"
   ]
  },
  {
   "cell_type": "code",
   "execution_count": 1,
   "id": "042e6cdb",
   "metadata": {},
   "outputs": [],
   "source": [
    "import torch\n",
    "import torch.nn as nn\n",
    "import numpy as np"
   ]
  },
  {
   "cell_type": "code",
   "execution_count": null,
   "id": "167b3efa",
   "metadata": {},
   "outputs": [],
   "source": []
  }
 ],
 "metadata": {
  "kernelspec": {
   "display_name": "venv",
   "language": "python",
   "name": "python3"
  },
  "language_info": {
   "codemirror_mode": {
    "name": "ipython",
    "version": 3
   },
   "file_extension": ".py",
   "mimetype": "text/x-python",
   "name": "python",
   "nbconvert_exporter": "python",
   "pygments_lexer": "ipython3",
   "version": "3.10.12"
  }
 },
 "nbformat": 4,
 "nbformat_minor": 5
}
