{
 "cells": [
  {
   "cell_type": "markdown",
   "id": "7b5e55af",
   "metadata": {},
   "source": [
    "### Basics of Pytorch"
   ]
  },
  {
   "cell_type": "markdown",
   "id": "20f95edc",
   "metadata": {},
   "source": [
    "- All Imports are in this cell"
   ]
  },
  {
   "cell_type": "code",
   "execution_count": 127,
   "id": "042e6cdb",
   "metadata": {},
   "outputs": [],
   "source": [
    "import torch\n",
    "import torchvision\n",
    "import torch.nn as nn\n",
    "import numpy as np\n",
    "import matplotlib.pyplot as plt\n"
   ]
  },
  {
   "cell_type": "code",
   "execution_count": 128,
   "id": "167b3efa",
   "metadata": {},
   "outputs": [
    {
     "name": "stdout",
     "output_type": "stream",
     "text": [
      "Matrix multiplication in numpy: \n",
      " [[10]\n",
      " [28]\n",
      " [46]]\n"
     ]
    }
   ],
   "source": [
    "# Some example matrices for matrix multiplication in numpy\n",
    "\n",
    "x = [[1, 2, 3], [4, 5, 6], [7, 8, 9]] # 3x3 matrix\n",
    "y = [[3] , [2] , [1]] # 3x1 matrix\n",
    "\n",
    "np_x = np.array(x)\n",
    "np_y = np.array(y)\n",
    "\n",
    "print(f\"Matrix multiplication in numpy: \\n {np.matmul(np_x, np_y)}\")"
   ]
  },
  {
   "cell_type": "code",
   "execution_count": 129,
   "id": "15581733",
   "metadata": {},
   "outputs": [
    {
     "name": "stdout",
     "output_type": "stream",
     "text": [
      "Matrix multiplication and b_torch addition in pytorch: \n",
      " tensor([[11.],\n",
      "        [29.],\n",
      "        [47.]])\n"
     ]
    }
   ],
   "source": [
    "x_tensor = torch.FloatTensor(x)\n",
    "y_tensor = torch.FloatTensor(y)\n",
    "\n",
    "b_torch = torch.ones(3, 1) # 3x1 matrix of ones\n",
    "\n",
    "print(f\"Matrix multiplication and b_torch addition in pytorch: \\n {torch.matmul(x_tensor, y_tensor) + b_torch}\")"
   ]
  },
  {
   "cell_type": "code",
   "execution_count": 130,
   "id": "b4cea6e9",
   "metadata": {},
   "outputs": [
    {
     "name": "stdout",
     "output_type": "stream",
     "text": [
      "tensor([[[[0.0469],\n",
      "          [0.8324],\n",
      "          [0.0395]],\n",
      "\n",
      "         [[0.1233],\n",
      "          [0.6795],\n",
      "          [0.2315]]],\n",
      "\n",
      "\n",
      "        [[[0.1843],\n",
      "          [0.1978],\n",
      "          [0.5058]],\n",
      "\n",
      "         [[0.2620],\n",
      "          [0.1753],\n",
      "          [0.4642]]],\n",
      "\n",
      "\n",
      "        [[[0.5131],\n",
      "          [0.6250],\n",
      "          [0.6681]],\n",
      "\n",
      "         [[0.2510],\n",
      "          [0.6341],\n",
      "          [0.6418]]]])\n",
      "Minimum value of tensor is :  tensor(0.0395)\n"
     ]
    }
   ],
   "source": [
    "y = torch.rand(3 , 2 , 3 , 1)\n",
    "print(y)   # 4D tensor i.e 3 matrices of 2 x 3 x 1\n",
    "\n",
    "\n",
    "print(f\"Minimum value of tensor is : \" , y.min())  # gives minimum value in whole tensor i.e global minimum"
   ]
  },
  {
   "cell_type": "code",
   "execution_count": 131,
   "id": "457fc54b",
   "metadata": {},
   "outputs": [
    {
     "name": "stdout",
     "output_type": "stream",
     "text": [
      "tensor([[13., 13., 13.],\n",
      "        [13., 13., 13.]])\n"
     ]
    }
   ],
   "source": [
    "x = torch.ones(2, 3)\n",
    "\n",
    "print(x * 10 + 3)  # broadcasting in pytorch"
   ]
  },
  {
   "cell_type": "code",
   "execution_count": 132,
   "id": "d0c9af76",
   "metadata": {},
   "outputs": [
    {
     "data": {
      "text/plain": [
       "tensor([[1., 2., 3., 4., 5., 6., 7., 8., 9.]])"
      ]
     },
     "execution_count": 132,
     "metadata": {},
     "output_type": "execute_result"
    }
   ],
   "source": [
    "x_tensor.reshape(1, 9)  # reshaping tensor to 1x9 from 2x3"
   ]
  },
  {
   "cell_type": "code",
   "execution_count": 133,
   "id": "7f8decd7",
   "metadata": {},
   "outputs": [
    {
     "data": {
      "text/plain": [
       "[<matplotlib.lines.Line2D at 0x729aecaa1a50>]"
      ]
     },
     "execution_count": 133,
     "metadata": {},
     "output_type": "execute_result"
    },
    {
     "data": {
      "image/png": "[encoded data removed]",
      "text/plain": [
       "<Figure size 640x480 with 1 Axes>"
      ]
     },
     "metadata": {},
     "output_type": "display_data"
    }
   ],
   "source": [
    "fx = lambda x : x**2 + 2*x + 3\n",
    "\n",
    "x = np.linspace(-10, 10 , 100)\n",
    "\n",
    "plt.plot(x , fx(x))"
   ]
  },
  {
   "cell_type": "code",
   "execution_count": 134,
   "id": "f0ef2a00",
   "metadata": {},
   "outputs": [
    {
     "name": "stdout",
     "output_type": "stream",
     "text": [
      "When x = 0.1742197722196579 , then grad of fx at x is 2.3484394550323486\n"
     ]
    }
   ],
   "source": [
    "x_ = torch.randn(1 , requires_grad=True)  # A random number tensor\n",
    "y_ = fx(x_)\n",
    "y_.backward()\n",
    "grad_x_ = x_.grad.item()\n",
    "print(f\"When x = {x_.item()} , then grad of fx at x is {grad_x_}\")\n"
   ]
  },
  {
   "cell_type": "code",
   "execution_count": null,
   "id": "cd0e2e69",
   "metadata": {},
   "outputs": [
    {
     "name": "stdout",
     "output_type": "stream",
     "text": [
      "Minimum value of fx is at x = -1.499517798423767 , fx = -0.2499997615814209 after 436 iterations with gradient of 0.00098419189453125\n"
     ]
    }
   ],
   "source": [
    "# Gradient descent Implementation in pytorch\n",
    "\n",
    "def fx(x):\n",
    "    return x**2 + 3*x + 2  # Example: a simple quadratic\n",
    "\n",
    "x_ = torch.randn(1 , requires_grad=True)  # A random number tensor\n",
    "learning_rate = 0.01\n",
    "n_iters = 0\n",
    "x_logger = []\n",
    "y_logger = []\n",
    "dy_dx = 100000  # just a large value to start with\n",
    "\n",
    "while np.abs(dy_dx) > 0.001 :\n",
    "    y_ = fx(x_)\n",
    "    y_.backward()\n",
    "    dy_dx = x_.grad.item()\n",
    "    with torch.no_grad():\n",
    "        x_ -= learning_rate * dy_dx\n",
    "        x_logger.append(x_.item())\n",
    "        y_logger.append(y_.item())\n",
    "        x_.grad.zero_()  # setting gradient to zero after every step\n",
    "    n_iters += 1\n",
    "\n",
    "print(f\"Minimum value of fx is at x = {x_.item()} , fx = {fx(x_).item()} after {n_iters} iterations with gradient of {dy_dx}\")"
   ]
  },
  {
   "cell_type": "code",
   "execution_count": null,
   "id": "5a742702",
   "metadata": {},
   "outputs": [],
   "source": [
    "\n",
    "# A simple Linear model using nn.Module class\n",
    "class LinearModel(nn.Module):\n",
    "    def __init__(self , input_dim , output_dim):\n",
    "        super().__init__()\n",
    "        self.w = nn.Parameter(torch.randn(input_dim , output_dim , requires_grad=True))\n",
    "        self.b = nn.Parameter(torch.randn(1 , output_dim , requires_grad=True))\n",
    "\n",
    "    def forward(self, x) -> torch.Tensor:\n",
    "        return x @ self.w + self.b"
   ]
  },
  {
   "cell_type": "code",
   "execution_count": 169,
   "id": "7cb4cb3f",
   "metadata": {},
   "outputs": [
    {
     "name": "stdout",
     "output_type": "stream",
     "text": [
      "torch.Size([3, 1])\n",
      "tensor([[-0.5445],\n",
      "        [-1.2004],\n",
      "        [-0.3280]])\n"
     ]
    }
   ],
   "source": [
    "input_data = torch.randn(3 , 2)  # 3 samples of 2 features each\n",
    "model = LinearModel(2 , 1)  # input dimension is 2 and output dimension is 1\n",
    "\n",
    "output = model(input_data)\n",
    "\n",
    "\n",
    "print(output.shape)\n",
    "print(output.detach())  # Forward pass through the model to get predictions"
   ]
  },
  {
   "cell_type": "code",
   "execution_count": 174,
   "id": "cfe8098b",
   "metadata": {},
   "outputs": [
    {
     "name": "stdout",
     "output_type": "stream",
     "text": [
      "Epoch 0 : Loss = 2.6548593044281006\n",
      "Epoch 100 : Loss = 0.28032737970352173\n",
      "Epoch 200 : Loss = 0.1796172857284546\n",
      "Epoch 300 : Loss = 0.1292864829301834\n",
      "Epoch 400 : Loss = 0.09439849853515625\n",
      "Epoch 500 : Loss = 0.06905520707368851\n",
      "Epoch 600 : Loss = 0.050528381019830704\n",
      "Epoch 700 : Loss = 0.03697334602475166\n",
      "Epoch 800 : Loss = 0.02705472894012928\n",
      "Epoch 900 : Loss = 0.01979694701731205\n"
     ]
    }
   ],
   "source": [
    "linear = nn.Linear(2 , 1)  # input dimension is 2 and output dimension is 1\n",
    "optimizer = torch.optim.SGD(linear.parameters() , lr=0.01)  # Stochastic Gradient Descent optimizer\n",
    "loss = nn.MSELoss()  # Mean Squared Error loss function\n",
    "testing_output = torch.randn(3 , 1)  # assuming some random target values\n",
    "loss_history = []\n",
    "\n",
    "\n",
    "for epoch in range(1000):\n",
    "    y_pred = linear(input_data) # Forward pass\n",
    "    l = loss(y_pred , testing_output)  # using the random target values\n",
    "    l.backward()  # Backward pass to compute gradients\n",
    "    optimizer.step()  # Update weights\n",
    "    optimizer.zero_grad()  # Zero the gradients after updating\n",
    "    loss_history.append(l.item())\n",
    "    if epoch % 100 == 0:\n",
    "        print(f\"Epoch {epoch} : Loss = {l.item()}\")\n"
   ]
  },
  {
   "cell_type": "code",
   "execution_count": 175,
   "id": "ec62bda5",
   "metadata": {},
   "outputs": [
    {
     "data": {
      "image/png": "[encoded data removed]",
      "text/plain": [
       "<Figure size 640x480 with 1 Axes>"
      ]
     },
     "metadata": {},
     "output_type": "display_data"
    }
   ],
   "source": [
    "plt.plot(loss_history)  # Plotting the loss history to see the decrease in loss over epochs\n",
    "plt.xlabel(\"Epochs\")\n",
    "plt.ylabel(\"Loss\")\n",
    "plt.title(\"Loss over Epochs\")\n",
    "plt.show()"
   ]
  }
 ],
 "metadata": {
  "kernelspec": {
   "display_name": "venv",
   "language": "python",
   "name": "python3"
  },
  "language_info": {
   "codemirror_mode": {
    "name": "ipython",
    "version": 3
   },
   "file_extension": ".py",
   "mimetype": "text/x-python",
   "name": "python",
   "nbconvert_exporter": "python",
   "pygments_lexer": "ipython3",
   "version": "3.10.12"
  }
 },
 "nbformat": 4,
 "nbformat_minor": 5
}
