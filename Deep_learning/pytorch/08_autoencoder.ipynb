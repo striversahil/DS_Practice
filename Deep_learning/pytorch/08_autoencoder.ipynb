{
 "cells": [
  {
   "cell_type": "markdown",
   "id": "675ee27c",
   "metadata": {},
   "source": [
    "### Autoencoder"
   ]
  },
  {
   "cell_type": "code",
   "execution_count": 13,
   "id": "8c5e1ec1",
   "metadata": {},
   "outputs": [],
   "source": [
    "import torch\n",
    "import torch.nn as nn\n",
    "import torch.optim as optim\n",
    "import torchvision\n",
    "import torchvision.transforms as transforms\n",
    "from torchvision.datasets import MNIST\n",
    "import matplotlib.pyplot as plt\n",
    "import numpy as np\n",
    "from torch.utils.data import DataLoader\n",
    "from torch.utils.data import random_split\n",
    "from torchvision.utils import make_grid"
   ]
  },
  {
   "cell_type": "code",
   "execution_count": 14,
   "id": "427a5821",
   "metadata": {},
   "outputs": [],
   "source": [
    "batch_size = 64\n",
    "\n",
    "learning_rate = 1e-3\n",
    "num_epochs = 20\n",
    "\n",
    "\n",
    "transform = transforms.Compose([\n",
    "    transforms.Resize(28),\n",
    "    transforms.ToTensor(),    # 0-1\n",
    "    transforms.Normalize([0.5] , [0.5])\n",
    "])\n",
    "\n",
    "train_data = MNIST(root='./data', train=True, download=True, transform=transform)\n",
    "test_data = MNIST(root='./data', train=False, download=True, transform=transform)\n",
    "\n",
    "train_loader = DataLoader(dataset=train_data, batch_size=batch_size, shuffle=True)\n",
    "test_loader = DataLoader(dataset=test_data, batch_size=batch_size, shuffle=False)"
   ]
  },
  {
   "cell_type": "code",
   "execution_count": 15,
   "id": "f112c1f7",
   "metadata": {},
   "outputs": [
    {
     "name": "stdout",
     "output_type": "stream",
     "text": [
      "cpu\n"
     ]
    }
   ],
   "source": [
    "device = torch.device('cuda' if torch.cuda.is_available() else 'cpu')\n",
    "print(device)"
   ]
  },
  {
   "cell_type": "code",
   "execution_count": 16,
   "id": "1b67c213",
   "metadata": {},
   "outputs": [],
   "source": [
    "class Encoder(nn.Module):\n",
    "    def __init__(self , channel_in , channel , feature_dim=32):\n",
    "        super().__init__()\n",
    "\n",
    "        self.conv1 = nn.Conv2d(channel_in , channel , kernel_size=3 , stride=2 , padding=1)  # 14\n",
    "        self.bn1 = nn.BatchNorm2d(channel)\n",
    "        self.conv2 = nn.Conv2d(channel , channel*2 , kernel_size=3 , stride=2 , padding=1)  # 7\n",
    "        self.bn2 = nn.BatchNorm2d(channel*2)\n",
    "        self.conv3 = nn.Conv2d(channel*2 , channel*4 , kernel_size=3 , stride=2 , padding=1)  # 4\n",
    "        self.bn3 = nn.BatchNorm2d(channel*4)\n",
    "        self.conv4 = nn.Conv2d(channel*4 , channel*8 , kernel_size=3 , stride=2 , padding=1)  # 2\n",
    "\n",
    "    def forward(self , x):\n",
    "        x = torch.relu(self.bn1(self.conv1(x)))\n",
    "        x = torch.relu(self.bn2(self.conv2(x)))\n",
    "        x = torch.relu(self.bn3(self.conv3(x)))\n",
    "        x = torch.relu(self.conv4(x))\n",
    "        return x\n",
    "\n",
    "\n",
    "\n",
    "class Decoder(nn.Module):\n",
    "    def __init__(self, channel_out, channel, feature_dim=32):\n",
    "        super().__init__()\n",
    "\n",
    "        self.t_conv1 = nn.ConvTranspose2d(channel*8 , channel*4 , kernel_size=3 , stride=2 , padding=1 , output_padding=1)  # 4\n",
    "        self.bn1 = nn.BatchNorm2d(channel*4)\n",
    "        self.t_conv2 = nn.ConvTranspose2d(channel*4 , channel*2 , kernel_size=3 , stride=2 , padding=1 , output_padding=1)  # 7\n",
    "        self.bn2 = nn.BatchNorm2d(channel*2)\n",
    "        self.t_conv3 = nn.ConvTranspose2d(channel*2 , channel , kernel_size=3 , stride=2 , padding=1 , output_padding=1)  # 14\n",
    "        self.bn3 = nn.BatchNorm2d(channel)\n",
    "        self.t_conv4 = nn.ConvTranspose2d(channel , channel , kernel_size=3 , stride=2 , padding=1 , output_padding=1)  # 28\n",
    "        self.bn4 = nn.BatchNorm2d(channel_out)\n",
    "\n",
    "        self.conv_out = nn.Conv2d(channel , channel_out , kernel_size=3 , stride=1 , padding=1)   # 28  zero padding in output layer\n",
    "\n",
    "    def forward(self , x):\n",
    "        x = torch.relu(self.bn1(self.t_conv1(x)))\n",
    "        x = torch.relu(self.bn2(self.t_conv2(x)))\n",
    "        x = torch.relu(self.bn3(self.t_conv3(x)))\n",
    "        x = torch.relu(self.bn4(self.t_conv4(x)))\n",
    "        x = torch.tanh(self.conv_out(x))\n",
    "        return x\n",
    "\n",
    "\n",
    "class Autoencoder(nn.Module):\n",
    "    def __init__(self):\n",
    "        super().__init__()\n",
    "        self.encoder = Encoder()\n",
    "        self.decoder = Decoder()\n",
    "\n",
    "    def forward(self , x):\n",
    "        encoded = self.encoder(x)\n",
    "        decoded = self.decoder(encoded)\n",
    "        return decoded\n"
   ]
  },
  {
   "cell_type": "code",
   "execution_count": 17,
   "id": "64c1bc70",
   "metadata": {},
   "outputs": [
    {
     "data": {
      "text/plain": [
       "torch.Size([64, 1, 28, 28])"
      ]
     },
     "execution_count": 17,
     "metadata": {},
     "output_type": "execute_result"
    }
   ],
   "source": [
    "# Get a test image\n",
    "dataiter = next(iter(test_loader))\n",
    "test_images = dataiter[0]\n",
    "# View the shape\n",
    "test_images.shape\n"
   ]
  },
  {
   "cell_type": "code",
   "execution_count": 18,
   "id": "9389062c",
   "metadata": {},
   "outputs": [
    {
     "data": {
      "image/png": "[encoded data removed]",
      "text/plain": [
       "<Figure size 2000x1000 with 1 Axes>"
      ]
     },
     "metadata": {},
     "output_type": "display_data"
    }
   ],
   "source": [
    "\n",
    "# Visualize the data!!!\n",
    "plt.figure(figsize = (20,10))\n",
    "out = make_grid(test_images[0:8], normalize=True)\n",
    "_ = plt.imshow(out.numpy().transpose((1, 2, 0)))\n"
   ]
  }
 ],
 "metadata": {
  "kernelspec": {
   "display_name": "venv",
   "language": "python",
   "name": "python3"
  },
  "language_info": {
   "codemirror_mode": {
    "name": "ipython",
    "version": 3
   },
   "file_extension": ".py",
   "mimetype": "text/x-python",
   "name": "python",
   "nbconvert_exporter": "python",
   "pygments_lexer": "ipython3",
   "version": "3.10.12"
  }
 },
 "nbformat": 4,
 "nbformat_minor": 5
}
